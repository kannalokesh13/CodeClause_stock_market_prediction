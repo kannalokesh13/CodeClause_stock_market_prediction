{
 "cells": [
  {
   "cell_type": "markdown",
   "id": "964b606d",
   "metadata": {},
   "source": [
    "# Project - 1\n",
    "\n",
    "# Name of Project- Stock Market Prediction \n",
    " \n",
    "### Description- For most stock investors, the favorite question is \"How long should we hold a stock for?\". Every investor wants to know how not to act too fearful and too greedy. And not all of them have Warren Buffet to guide them at every  stem. We'd suggest that you stop looking for him. Rather, build your stock market predictor with artificial intelligence tools like Machine Learning. And the approach to this is so simple that you can consider adding this to your Data Science Projects list. \n",
    " "
   ]
  },
  {
   "cell_type": "markdown",
   "id": "274569f1",
   "metadata": {},
   "source": [
    "### Importing The Libraries"
   ]
  },
  {
   "cell_type": "code",
   "execution_count": 63,
   "id": "d4926d79",
   "metadata": {},
   "outputs": [],
   "source": [
    "import pandas as pd\n",
    "import numpy as np\n",
    "import seaborn as sns\n",
    "import matplotlib.pyplot as plt"
   ]
  },
  {
   "cell_type": "markdown",
   "id": "a1b40a4d",
   "metadata": {},
   "source": [
    "### Importing The DataSet"
   ]
  },
  {
   "cell_type": "code",
   "execution_count": 64,
   "id": "e84f597f",
   "metadata": {},
   "outputs": [],
   "source": [
    "dataset=pd.read_csv(\"Quote-Equity-HDFC-EQ-01-08-2018-to-30-07-2020.csv\",encoding='utf-8',delimiter=',')"
   ]
  },
  {
   "cell_type": "code",
   "execution_count": 65,
   "id": "03af0982",
   "metadata": {},
   "outputs": [
    {
     "data": {
      "text/html": [
       "<div>\n",
       "<style scoped>\n",
       "    .dataframe tbody tr th:only-of-type {\n",
       "        vertical-align: middle;\n",
       "    }\n",
       "\n",
       "    .dataframe tbody tr th {\n",
       "        vertical-align: top;\n",
       "    }\n",
       "\n",
       "    .dataframe thead th {\n",
       "        text-align: right;\n",
       "    }\n",
       "</style>\n",
       "<table border=\"1\" class=\"dataframe\">\n",
       "  <thead>\n",
       "    <tr style=\"text-align: right;\">\n",
       "      <th></th>\n",
       "      <th>Date</th>\n",
       "      <th>series</th>\n",
       "      <th>OPEN</th>\n",
       "      <th>HIGH</th>\n",
       "      <th>LOW</th>\n",
       "      <th>PREV. CLOSE</th>\n",
       "      <th>ltp</th>\n",
       "      <th>close</th>\n",
       "      <th>vwap</th>\n",
       "      <th>52W H</th>\n",
       "      <th>52W L</th>\n",
       "      <th>VOLUME</th>\n",
       "      <th>VALUE</th>\n",
       "      <th>No of trades</th>\n",
       "    </tr>\n",
       "  </thead>\n",
       "  <tbody>\n",
       "    <tr>\n",
       "      <th>0</th>\n",
       "      <td>29-Jul-2020</td>\n",
       "      <td>EQ</td>\n",
       "      <td>1,885.00</td>\n",
       "      <td>1,918.50</td>\n",
       "      <td>1,867.20</td>\n",
       "      <td>1,897.35</td>\n",
       "      <td>1,879.65</td>\n",
       "      <td>1,877.30</td>\n",
       "      <td>1,890.21</td>\n",
       "      <td>2,499.90</td>\n",
       "      <td>1,473.45</td>\n",
       "      <td>7413828</td>\n",
       "      <td>14,013,720,596.85</td>\n",
       "      <td>202540</td>\n",
       "    </tr>\n",
       "    <tr>\n",
       "      <th>1</th>\n",
       "      <td>28-Jul-2020</td>\n",
       "      <td>EQ</td>\n",
       "      <td>1,859.35</td>\n",
       "      <td>1,907.00</td>\n",
       "      <td>1,844.50</td>\n",
       "      <td>1,850.75</td>\n",
       "      <td>1,892.00</td>\n",
       "      <td>1,897.35</td>\n",
       "      <td>1,876.95</td>\n",
       "      <td>2,499.90</td>\n",
       "      <td>1,473.45</td>\n",
       "      <td>4346193</td>\n",
       "      <td>8,157,568,543.65</td>\n",
       "      <td>175005</td>\n",
       "    </tr>\n",
       "    <tr>\n",
       "      <th>2</th>\n",
       "      <td>27-Jul-2020</td>\n",
       "      <td>EQ</td>\n",
       "      <td>1,841.30</td>\n",
       "      <td>1,861.95</td>\n",
       "      <td>1,824.00</td>\n",
       "      <td>1,841.30</td>\n",
       "      <td>1,853.00</td>\n",
       "      <td>1,850.75</td>\n",
       "      <td>1,842.36</td>\n",
       "      <td>2,499.90</td>\n",
       "      <td>1,473.45</td>\n",
       "      <td>3724639</td>\n",
       "      <td>6,862,134,768.10</td>\n",
       "      <td>166745</td>\n",
       "    </tr>\n",
       "    <tr>\n",
       "      <th>3</th>\n",
       "      <td>24-Jul-2020</td>\n",
       "      <td>EQ</td>\n",
       "      <td>1,854.00</td>\n",
       "      <td>1,857.80</td>\n",
       "      <td>1,817.00</td>\n",
       "      <td>1,875.80</td>\n",
       "      <td>1,841.00</td>\n",
       "      <td>1,841.30</td>\n",
       "      <td>1,834.05</td>\n",
       "      <td>2,499.90</td>\n",
       "      <td>1,473.45</td>\n",
       "      <td>3309356</td>\n",
       "      <td>6,069,531,974.80</td>\n",
       "      <td>148129</td>\n",
       "    </tr>\n",
       "    <tr>\n",
       "      <th>4</th>\n",
       "      <td>23-Jul-2020</td>\n",
       "      <td>EQ</td>\n",
       "      <td>1,881.05</td>\n",
       "      <td>1,910.00</td>\n",
       "      <td>1,871.60</td>\n",
       "      <td>1,881.05</td>\n",
       "      <td>1,872.25</td>\n",
       "      <td>1,875.80</td>\n",
       "      <td>1,891.88</td>\n",
       "      <td>2,499.90</td>\n",
       "      <td>1,473.45</td>\n",
       "      <td>3647242</td>\n",
       "      <td>6,900,158,053.60</td>\n",
       "      <td>121783</td>\n",
       "    </tr>\n",
       "  </tbody>\n",
       "</table>\n",
       "</div>"
      ],
      "text/plain": [
       "         Date  series      OPEN      HIGH       LOW  PREV. CLOSE       ltp   \\\n",
       "0  29-Jul-2020      EQ  1,885.00  1,918.50  1,867.20     1,897.35  1,879.65   \n",
       "1  28-Jul-2020      EQ  1,859.35  1,907.00  1,844.50     1,850.75  1,892.00   \n",
       "2  27-Jul-2020      EQ  1,841.30  1,861.95  1,824.00     1,841.30  1,853.00   \n",
       "3  24-Jul-2020      EQ  1,854.00  1,857.80  1,817.00     1,875.80  1,841.00   \n",
       "4  23-Jul-2020      EQ  1,881.05  1,910.00  1,871.60     1,881.05  1,872.25   \n",
       "\n",
       "     close      vwap     52W H     52W L   VOLUME              VALUE   \\\n",
       "0  1,877.30  1,890.21  2,499.90  1,473.45  7413828  14,013,720,596.85   \n",
       "1  1,897.35  1,876.95  2,499.90  1,473.45  4346193   8,157,568,543.65   \n",
       "2  1,850.75  1,842.36  2,499.90  1,473.45  3724639   6,862,134,768.10   \n",
       "3  1,841.30  1,834.05  2,499.90  1,473.45  3309356   6,069,531,974.80   \n",
       "4  1,875.80  1,891.88  2,499.90  1,473.45  3647242   6,900,158,053.60   \n",
       "\n",
       "   No of trades   \n",
       "0         202540  \n",
       "1         175005  \n",
       "2         166745  \n",
       "3         148129  \n",
       "4         121783  "
      ]
     },
     "execution_count": 65,
     "metadata": {},
     "output_type": "execute_result"
    }
   ],
   "source": [
    "dataset.head()"
   ]
  },
  {
   "cell_type": "code",
   "execution_count": 66,
   "id": "e62a1096",
   "metadata": {},
   "outputs": [
    {
     "data": {
      "text/plain": [
       "(489, 14)"
      ]
     },
     "execution_count": 66,
     "metadata": {},
     "output_type": "execute_result"
    }
   ],
   "source": [
    "dataset.shape"
   ]
  },
  {
   "cell_type": "code",
   "execution_count": 67,
   "id": "66e1afcd",
   "metadata": {},
   "outputs": [],
   "source": [
    "dataset.columns=['Date','series','OPEN','HIGH','LOW','PREV.CLOSE','ltp','close','vwap','52W H','52W L','VOLUME','VALUE','No of trades']"
   ]
  },
  {
   "cell_type": "code",
   "execution_count": 68,
   "id": "69c70b66",
   "metadata": {},
   "outputs": [
    {
     "name": "stdout",
     "output_type": "stream",
     "text": [
      "<class 'pandas.core.frame.DataFrame'>\n",
      "RangeIndex: 489 entries, 0 to 488\n",
      "Data columns (total 14 columns):\n",
      " #   Column        Non-Null Count  Dtype \n",
      "---  ------        --------------  ----- \n",
      " 0   Date          489 non-null    object\n",
      " 1   series        489 non-null    object\n",
      " 2   OPEN          489 non-null    object\n",
      " 3   HIGH          489 non-null    object\n",
      " 4   LOW           489 non-null    object\n",
      " 5   PREV.CLOSE    489 non-null    object\n",
      " 6   ltp           489 non-null    object\n",
      " 7   close         489 non-null    object\n",
      " 8   vwap          489 non-null    object\n",
      " 9   52W H         489 non-null    object\n",
      " 10  52W L         489 non-null    object\n",
      " 11  VOLUME        489 non-null    int64 \n",
      " 12  VALUE         489 non-null    object\n",
      " 13  No of trades  489 non-null    int64 \n",
      "dtypes: int64(2), object(12)\n",
      "memory usage: 53.6+ KB\n"
     ]
    }
   ],
   "source": [
    "dataset.info()"
   ]
  },
  {
   "cell_type": "code",
   "execution_count": 69,
   "id": "af8d10e0",
   "metadata": {},
   "outputs": [],
   "source": [
    "numerical_data=[feature for feature in dataset.columns if dataset[feature].dtype!='O']"
   ]
  },
  {
   "cell_type": "code",
   "execution_count": 70,
   "id": "9e1e6c9c",
   "metadata": {},
   "outputs": [
    {
     "data": {
      "text/plain": [
       "2"
      ]
     },
     "execution_count": 70,
     "metadata": {},
     "output_type": "execute_result"
    }
   ],
   "source": [
    "len(numerical_data)"
   ]
  },
  {
   "cell_type": "code",
   "execution_count": 71,
   "id": "3cfa43db",
   "metadata": {},
   "outputs": [
    {
     "data": {
      "text/plain": [
       "['VOLUME', 'No of trades']"
      ]
     },
     "execution_count": 71,
     "metadata": {},
     "output_type": "execute_result"
    }
   ],
   "source": [
    "numerical_data"
   ]
  },
  {
   "cell_type": "code",
   "execution_count": 72,
   "id": "9bf1bf91",
   "metadata": {},
   "outputs": [
    {
     "data": {
      "text/plain": [
       "0      1,885.00\n",
       "1      1,859.35\n",
       "2      1,841.30\n",
       "3      1,854.00\n",
       "4      1,881.05\n",
       "         ...   \n",
       "484    1,982.00\n",
       "485    1,999.00\n",
       "486    1,945.00\n",
       "487    1,962.00\n",
       "488    1,995.00\n",
       "Name: OPEN, Length: 489, dtype: object"
      ]
     },
     "execution_count": 72,
     "metadata": {},
     "output_type": "execute_result"
    }
   ],
   "source": [
    "dataset['OPEN']"
   ]
  },
  {
   "cell_type": "markdown",
   "id": "22731f75",
   "metadata": {},
   "source": [
    "### Data Preprocessing"
   ]
  },
  {
   "cell_type": "code",
   "execution_count": 73,
   "id": "ce4f0b8a",
   "metadata": {},
   "outputs": [],
   "source": [
    "dataset['Date']=pd.to_datetime(dataset['Date'])"
   ]
  },
  {
   "cell_type": "code",
   "execution_count": 74,
   "id": "d96c003d",
   "metadata": {},
   "outputs": [],
   "source": [
    "import datetime as dt\n",
    "dataset['year']=dataset['Date'].dt.year"
   ]
  },
  {
   "cell_type": "code",
   "execution_count": 75,
   "id": "3e991f53",
   "metadata": {},
   "outputs": [],
   "source": [
    "dataset['month']=dataset['Date'].dt.month\n",
    "dataset['day']=dataset['Date'].dt.day"
   ]
  },
  {
   "cell_type": "code",
   "execution_count": 76,
   "id": "83b2c016",
   "metadata": {},
   "outputs": [
    {
     "data": {
      "text/html": [
       "<div>\n",
       "<style scoped>\n",
       "    .dataframe tbody tr th:only-of-type {\n",
       "        vertical-align: middle;\n",
       "    }\n",
       "\n",
       "    .dataframe tbody tr th {\n",
       "        vertical-align: top;\n",
       "    }\n",
       "\n",
       "    .dataframe thead th {\n",
       "        text-align: right;\n",
       "    }\n",
       "</style>\n",
       "<table border=\"1\" class=\"dataframe\">\n",
       "  <thead>\n",
       "    <tr style=\"text-align: right;\">\n",
       "      <th></th>\n",
       "      <th>Date</th>\n",
       "      <th>series</th>\n",
       "      <th>OPEN</th>\n",
       "      <th>HIGH</th>\n",
       "      <th>LOW</th>\n",
       "      <th>PREV.CLOSE</th>\n",
       "      <th>ltp</th>\n",
       "      <th>close</th>\n",
       "      <th>vwap</th>\n",
       "      <th>52W H</th>\n",
       "      <th>52W L</th>\n",
       "      <th>VOLUME</th>\n",
       "      <th>VALUE</th>\n",
       "      <th>No of trades</th>\n",
       "      <th>year</th>\n",
       "      <th>month</th>\n",
       "      <th>day</th>\n",
       "    </tr>\n",
       "  </thead>\n",
       "  <tbody>\n",
       "    <tr>\n",
       "      <th>0</th>\n",
       "      <td>2020-07-29</td>\n",
       "      <td>EQ</td>\n",
       "      <td>1,885.00</td>\n",
       "      <td>1,918.50</td>\n",
       "      <td>1,867.20</td>\n",
       "      <td>1,897.35</td>\n",
       "      <td>1,879.65</td>\n",
       "      <td>1,877.30</td>\n",
       "      <td>1,890.21</td>\n",
       "      <td>2,499.90</td>\n",
       "      <td>1,473.45</td>\n",
       "      <td>7413828</td>\n",
       "      <td>14,013,720,596.85</td>\n",
       "      <td>202540</td>\n",
       "      <td>2020</td>\n",
       "      <td>7</td>\n",
       "      <td>29</td>\n",
       "    </tr>\n",
       "    <tr>\n",
       "      <th>1</th>\n",
       "      <td>2020-07-28</td>\n",
       "      <td>EQ</td>\n",
       "      <td>1,859.35</td>\n",
       "      <td>1,907.00</td>\n",
       "      <td>1,844.50</td>\n",
       "      <td>1,850.75</td>\n",
       "      <td>1,892.00</td>\n",
       "      <td>1,897.35</td>\n",
       "      <td>1,876.95</td>\n",
       "      <td>2,499.90</td>\n",
       "      <td>1,473.45</td>\n",
       "      <td>4346193</td>\n",
       "      <td>8,157,568,543.65</td>\n",
       "      <td>175005</td>\n",
       "      <td>2020</td>\n",
       "      <td>7</td>\n",
       "      <td>28</td>\n",
       "    </tr>\n",
       "    <tr>\n",
       "      <th>2</th>\n",
       "      <td>2020-07-27</td>\n",
       "      <td>EQ</td>\n",
       "      <td>1,841.30</td>\n",
       "      <td>1,861.95</td>\n",
       "      <td>1,824.00</td>\n",
       "      <td>1,841.30</td>\n",
       "      <td>1,853.00</td>\n",
       "      <td>1,850.75</td>\n",
       "      <td>1,842.36</td>\n",
       "      <td>2,499.90</td>\n",
       "      <td>1,473.45</td>\n",
       "      <td>3724639</td>\n",
       "      <td>6,862,134,768.10</td>\n",
       "      <td>166745</td>\n",
       "      <td>2020</td>\n",
       "      <td>7</td>\n",
       "      <td>27</td>\n",
       "    </tr>\n",
       "    <tr>\n",
       "      <th>3</th>\n",
       "      <td>2020-07-24</td>\n",
       "      <td>EQ</td>\n",
       "      <td>1,854.00</td>\n",
       "      <td>1,857.80</td>\n",
       "      <td>1,817.00</td>\n",
       "      <td>1,875.80</td>\n",
       "      <td>1,841.00</td>\n",
       "      <td>1,841.30</td>\n",
       "      <td>1,834.05</td>\n",
       "      <td>2,499.90</td>\n",
       "      <td>1,473.45</td>\n",
       "      <td>3309356</td>\n",
       "      <td>6,069,531,974.80</td>\n",
       "      <td>148129</td>\n",
       "      <td>2020</td>\n",
       "      <td>7</td>\n",
       "      <td>24</td>\n",
       "    </tr>\n",
       "    <tr>\n",
       "      <th>4</th>\n",
       "      <td>2020-07-23</td>\n",
       "      <td>EQ</td>\n",
       "      <td>1,881.05</td>\n",
       "      <td>1,910.00</td>\n",
       "      <td>1,871.60</td>\n",
       "      <td>1,881.05</td>\n",
       "      <td>1,872.25</td>\n",
       "      <td>1,875.80</td>\n",
       "      <td>1,891.88</td>\n",
       "      <td>2,499.90</td>\n",
       "      <td>1,473.45</td>\n",
       "      <td>3647242</td>\n",
       "      <td>6,900,158,053.60</td>\n",
       "      <td>121783</td>\n",
       "      <td>2020</td>\n",
       "      <td>7</td>\n",
       "      <td>23</td>\n",
       "    </tr>\n",
       "  </tbody>\n",
       "</table>\n",
       "</div>"
      ],
      "text/plain": [
       "        Date series      OPEN      HIGH       LOW PREV.CLOSE       ltp  \\\n",
       "0 2020-07-29     EQ  1,885.00  1,918.50  1,867.20   1,897.35  1,879.65   \n",
       "1 2020-07-28     EQ  1,859.35  1,907.00  1,844.50   1,850.75  1,892.00   \n",
       "2 2020-07-27     EQ  1,841.30  1,861.95  1,824.00   1,841.30  1,853.00   \n",
       "3 2020-07-24     EQ  1,854.00  1,857.80  1,817.00   1,875.80  1,841.00   \n",
       "4 2020-07-23     EQ  1,881.05  1,910.00  1,871.60   1,881.05  1,872.25   \n",
       "\n",
       "      close      vwap     52W H     52W L   VOLUME              VALUE  \\\n",
       "0  1,877.30  1,890.21  2,499.90  1,473.45  7413828  14,013,720,596.85   \n",
       "1  1,897.35  1,876.95  2,499.90  1,473.45  4346193   8,157,568,543.65   \n",
       "2  1,850.75  1,842.36  2,499.90  1,473.45  3724639   6,862,134,768.10   \n",
       "3  1,841.30  1,834.05  2,499.90  1,473.45  3309356   6,069,531,974.80   \n",
       "4  1,875.80  1,891.88  2,499.90  1,473.45  3647242   6,900,158,053.60   \n",
       "\n",
       "   No of trades  year  month  day  \n",
       "0        202540  2020      7   29  \n",
       "1        175005  2020      7   28  \n",
       "2        166745  2020      7   27  \n",
       "3        148129  2020      7   24  \n",
       "4        121783  2020      7   23  "
      ]
     },
     "execution_count": 76,
     "metadata": {},
     "output_type": "execute_result"
    }
   ],
   "source": [
    "dataset.head()"
   ]
  },
  {
   "cell_type": "code",
   "execution_count": 77,
   "id": "b108e5f6",
   "metadata": {},
   "outputs": [
    {
     "data": {
      "text/plain": [
       "(489, 17)"
      ]
     },
     "execution_count": 77,
     "metadata": {},
     "output_type": "execute_result"
    }
   ],
   "source": [
    "dataset.shape"
   ]
  },
  {
   "cell_type": "markdown",
   "id": "25b56b9e",
   "metadata": {},
   "source": [
    "### Removing The Unnecessary Columns"
   ]
  },
  {
   "cell_type": "code",
   "execution_count": 78,
   "id": "b106f95a",
   "metadata": {},
   "outputs": [],
   "source": [
    "dataset.drop(['series','ltp','VALUE','VOLUME','vwap','52W H','52W L'],axis=1,inplace=True)"
   ]
  },
  {
   "cell_type": "code",
   "execution_count": 79,
   "id": "f7405a13",
   "metadata": {},
   "outputs": [
    {
     "data": {
      "text/plain": [
       "(489, 10)"
      ]
     },
     "execution_count": 79,
     "metadata": {},
     "output_type": "execute_result"
    }
   ],
   "source": [
    "dataset.shape"
   ]
  },
  {
   "cell_type": "code",
   "execution_count": 80,
   "id": "6618b394",
   "metadata": {},
   "outputs": [
    {
     "data": {
      "text/html": [
       "<div>\n",
       "<style scoped>\n",
       "    .dataframe tbody tr th:only-of-type {\n",
       "        vertical-align: middle;\n",
       "    }\n",
       "\n",
       "    .dataframe tbody tr th {\n",
       "        vertical-align: top;\n",
       "    }\n",
       "\n",
       "    .dataframe thead th {\n",
       "        text-align: right;\n",
       "    }\n",
       "</style>\n",
       "<table border=\"1\" class=\"dataframe\">\n",
       "  <thead>\n",
       "    <tr style=\"text-align: right;\">\n",
       "      <th></th>\n",
       "      <th>Date</th>\n",
       "      <th>OPEN</th>\n",
       "      <th>HIGH</th>\n",
       "      <th>LOW</th>\n",
       "      <th>PREV.CLOSE</th>\n",
       "      <th>close</th>\n",
       "      <th>No of trades</th>\n",
       "      <th>year</th>\n",
       "      <th>month</th>\n",
       "      <th>day</th>\n",
       "    </tr>\n",
       "  </thead>\n",
       "  <tbody>\n",
       "    <tr>\n",
       "      <th>0</th>\n",
       "      <td>2020-07-29</td>\n",
       "      <td>1,885.00</td>\n",
       "      <td>1,918.50</td>\n",
       "      <td>1,867.20</td>\n",
       "      <td>1,897.35</td>\n",
       "      <td>1,877.30</td>\n",
       "      <td>202540</td>\n",
       "      <td>2020</td>\n",
       "      <td>7</td>\n",
       "      <td>29</td>\n",
       "    </tr>\n",
       "    <tr>\n",
       "      <th>1</th>\n",
       "      <td>2020-07-28</td>\n",
       "      <td>1,859.35</td>\n",
       "      <td>1,907.00</td>\n",
       "      <td>1,844.50</td>\n",
       "      <td>1,850.75</td>\n",
       "      <td>1,897.35</td>\n",
       "      <td>175005</td>\n",
       "      <td>2020</td>\n",
       "      <td>7</td>\n",
       "      <td>28</td>\n",
       "    </tr>\n",
       "    <tr>\n",
       "      <th>2</th>\n",
       "      <td>2020-07-27</td>\n",
       "      <td>1,841.30</td>\n",
       "      <td>1,861.95</td>\n",
       "      <td>1,824.00</td>\n",
       "      <td>1,841.30</td>\n",
       "      <td>1,850.75</td>\n",
       "      <td>166745</td>\n",
       "      <td>2020</td>\n",
       "      <td>7</td>\n",
       "      <td>27</td>\n",
       "    </tr>\n",
       "    <tr>\n",
       "      <th>3</th>\n",
       "      <td>2020-07-24</td>\n",
       "      <td>1,854.00</td>\n",
       "      <td>1,857.80</td>\n",
       "      <td>1,817.00</td>\n",
       "      <td>1,875.80</td>\n",
       "      <td>1,841.30</td>\n",
       "      <td>148129</td>\n",
       "      <td>2020</td>\n",
       "      <td>7</td>\n",
       "      <td>24</td>\n",
       "    </tr>\n",
       "    <tr>\n",
       "      <th>4</th>\n",
       "      <td>2020-07-23</td>\n",
       "      <td>1,881.05</td>\n",
       "      <td>1,910.00</td>\n",
       "      <td>1,871.60</td>\n",
       "      <td>1,881.05</td>\n",
       "      <td>1,875.80</td>\n",
       "      <td>121783</td>\n",
       "      <td>2020</td>\n",
       "      <td>7</td>\n",
       "      <td>23</td>\n",
       "    </tr>\n",
       "  </tbody>\n",
       "</table>\n",
       "</div>"
      ],
      "text/plain": [
       "        Date      OPEN      HIGH       LOW PREV.CLOSE     close  No of trades  \\\n",
       "0 2020-07-29  1,885.00  1,918.50  1,867.20   1,897.35  1,877.30        202540   \n",
       "1 2020-07-28  1,859.35  1,907.00  1,844.50   1,850.75  1,897.35        175005   \n",
       "2 2020-07-27  1,841.30  1,861.95  1,824.00   1,841.30  1,850.75        166745   \n",
       "3 2020-07-24  1,854.00  1,857.80  1,817.00   1,875.80  1,841.30        148129   \n",
       "4 2020-07-23  1,881.05  1,910.00  1,871.60   1,881.05  1,875.80        121783   \n",
       "\n",
       "   year  month  day  \n",
       "0  2020      7   29  \n",
       "1  2020      7   28  \n",
       "2  2020      7   27  \n",
       "3  2020      7   24  \n",
       "4  2020      7   23  "
      ]
     },
     "execution_count": 80,
     "metadata": {},
     "output_type": "execute_result"
    }
   ],
   "source": [
    "dataset.head()"
   ]
  },
  {
   "cell_type": "markdown",
   "id": "eb2889f4",
   "metadata": {},
   "source": [
    "### Data Preprocessing"
   ]
  },
  {
   "cell_type": "code",
   "execution_count": 81,
   "id": "fba95e1e",
   "metadata": {},
   "outputs": [
    {
     "data": {
      "text/plain": [
       "0      False\n",
       "1      False\n",
       "2      False\n",
       "3      False\n",
       "4      False\n",
       "       ...  \n",
       "484    False\n",
       "485    False\n",
       "486    False\n",
       "487    False\n",
       "488    False\n",
       "Name: OPEN, Length: 489, dtype: bool"
      ]
     },
     "execution_count": 81,
     "metadata": {},
     "output_type": "execute_result"
    }
   ],
   "source": [
    "dataset['OPEN'].str.isnumeric()"
   ]
  },
  {
   "cell_type": "code",
   "execution_count": 82,
   "id": "f8ad2079",
   "metadata": {},
   "outputs": [],
   "source": [
    "dataset['OPEN']=dataset['OPEN'].str.replace(',','')"
   ]
  },
  {
   "cell_type": "code",
   "execution_count": 83,
   "id": "a51fd35b",
   "metadata": {},
   "outputs": [
    {
     "data": {
      "text/html": [
       "<div>\n",
       "<style scoped>\n",
       "    .dataframe tbody tr th:only-of-type {\n",
       "        vertical-align: middle;\n",
       "    }\n",
       "\n",
       "    .dataframe tbody tr th {\n",
       "        vertical-align: top;\n",
       "    }\n",
       "\n",
       "    .dataframe thead th {\n",
       "        text-align: right;\n",
       "    }\n",
       "</style>\n",
       "<table border=\"1\" class=\"dataframe\">\n",
       "  <thead>\n",
       "    <tr style=\"text-align: right;\">\n",
       "      <th></th>\n",
       "      <th>Date</th>\n",
       "      <th>OPEN</th>\n",
       "      <th>HIGH</th>\n",
       "      <th>LOW</th>\n",
       "      <th>PREV.CLOSE</th>\n",
       "      <th>close</th>\n",
       "      <th>No of trades</th>\n",
       "      <th>year</th>\n",
       "      <th>month</th>\n",
       "      <th>day</th>\n",
       "    </tr>\n",
       "  </thead>\n",
       "  <tbody>\n",
       "    <tr>\n",
       "      <th>0</th>\n",
       "      <td>2020-07-29</td>\n",
       "      <td>1885.00</td>\n",
       "      <td>1,918.50</td>\n",
       "      <td>1,867.20</td>\n",
       "      <td>1,897.35</td>\n",
       "      <td>1,877.30</td>\n",
       "      <td>202540</td>\n",
       "      <td>2020</td>\n",
       "      <td>7</td>\n",
       "      <td>29</td>\n",
       "    </tr>\n",
       "    <tr>\n",
       "      <th>1</th>\n",
       "      <td>2020-07-28</td>\n",
       "      <td>1859.35</td>\n",
       "      <td>1,907.00</td>\n",
       "      <td>1,844.50</td>\n",
       "      <td>1,850.75</td>\n",
       "      <td>1,897.35</td>\n",
       "      <td>175005</td>\n",
       "      <td>2020</td>\n",
       "      <td>7</td>\n",
       "      <td>28</td>\n",
       "    </tr>\n",
       "    <tr>\n",
       "      <th>2</th>\n",
       "      <td>2020-07-27</td>\n",
       "      <td>1841.30</td>\n",
       "      <td>1,861.95</td>\n",
       "      <td>1,824.00</td>\n",
       "      <td>1,841.30</td>\n",
       "      <td>1,850.75</td>\n",
       "      <td>166745</td>\n",
       "      <td>2020</td>\n",
       "      <td>7</td>\n",
       "      <td>27</td>\n",
       "    </tr>\n",
       "    <tr>\n",
       "      <th>3</th>\n",
       "      <td>2020-07-24</td>\n",
       "      <td>1854.00</td>\n",
       "      <td>1,857.80</td>\n",
       "      <td>1,817.00</td>\n",
       "      <td>1,875.80</td>\n",
       "      <td>1,841.30</td>\n",
       "      <td>148129</td>\n",
       "      <td>2020</td>\n",
       "      <td>7</td>\n",
       "      <td>24</td>\n",
       "    </tr>\n",
       "    <tr>\n",
       "      <th>4</th>\n",
       "      <td>2020-07-23</td>\n",
       "      <td>1881.05</td>\n",
       "      <td>1,910.00</td>\n",
       "      <td>1,871.60</td>\n",
       "      <td>1,881.05</td>\n",
       "      <td>1,875.80</td>\n",
       "      <td>121783</td>\n",
       "      <td>2020</td>\n",
       "      <td>7</td>\n",
       "      <td>23</td>\n",
       "    </tr>\n",
       "  </tbody>\n",
       "</table>\n",
       "</div>"
      ],
      "text/plain": [
       "        Date     OPEN      HIGH       LOW PREV.CLOSE     close  No of trades  \\\n",
       "0 2020-07-29  1885.00  1,918.50  1,867.20   1,897.35  1,877.30        202540   \n",
       "1 2020-07-28  1859.35  1,907.00  1,844.50   1,850.75  1,897.35        175005   \n",
       "2 2020-07-27  1841.30  1,861.95  1,824.00   1,841.30  1,850.75        166745   \n",
       "3 2020-07-24  1854.00  1,857.80  1,817.00   1,875.80  1,841.30        148129   \n",
       "4 2020-07-23  1881.05  1,910.00  1,871.60   1,881.05  1,875.80        121783   \n",
       "\n",
       "   year  month  day  \n",
       "0  2020      7   29  \n",
       "1  2020      7   28  \n",
       "2  2020      7   27  \n",
       "3  2020      7   24  \n",
       "4  2020      7   23  "
      ]
     },
     "execution_count": 83,
     "metadata": {},
     "output_type": "execute_result"
    }
   ],
   "source": [
    "dataset.head()"
   ]
  },
  {
   "cell_type": "code",
   "execution_count": 84,
   "id": "245bab07",
   "metadata": {},
   "outputs": [],
   "source": [
    "dataset['OPEN']=dataset['OPEN'].astype('float')"
   ]
  },
  {
   "cell_type": "code",
   "execution_count": 85,
   "id": "516125d9",
   "metadata": {},
   "outputs": [
    {
     "data": {
      "text/plain": [
       "dtype('float64')"
      ]
     },
     "execution_count": 85,
     "metadata": {},
     "output_type": "execute_result"
    }
   ],
   "source": [
    "dataset['OPEN'].dtype"
   ]
  },
  {
   "cell_type": "code",
   "execution_count": 86,
   "id": "c5402446",
   "metadata": {},
   "outputs": [],
   "source": [
    "dataset['HIGH']=dataset['HIGH'].str.replace(',','')\n",
    "dataset['LOW']=dataset['LOW'].str.replace(',','')\n",
    "dataset['PREV.CLOSE']=dataset['PREV.CLOSE'].str.replace(',','')\n",
    "dataset['close']=dataset['close'].str.replace(',','')"
   ]
  },
  {
   "cell_type": "code",
   "execution_count": 87,
   "id": "cbde8ff0",
   "metadata": {},
   "outputs": [],
   "source": [
    "dataset['HIGH']=dataset['HIGH'].astype('float')\n",
    "dataset['LOW']=dataset['LOW'].astype('float')\n",
    "dataset['PREV.CLOSE']=dataset['PREV.CLOSE'].astype('float')\n",
    "dataset['close']=dataset['close'].astype('float')"
   ]
  },
  {
   "cell_type": "code",
   "execution_count": 88,
   "id": "c35f2c23",
   "metadata": {},
   "outputs": [
    {
     "name": "stdout",
     "output_type": "stream",
     "text": [
      "<class 'pandas.core.frame.DataFrame'>\n",
      "RangeIndex: 489 entries, 0 to 488\n",
      "Data columns (total 10 columns):\n",
      " #   Column        Non-Null Count  Dtype         \n",
      "---  ------        --------------  -----         \n",
      " 0   Date          489 non-null    datetime64[ns]\n",
      " 1   OPEN          489 non-null    float64       \n",
      " 2   HIGH          489 non-null    float64       \n",
      " 3   LOW           489 non-null    float64       \n",
      " 4   PREV.CLOSE    489 non-null    float64       \n",
      " 5   close         489 non-null    float64       \n",
      " 6   No of trades  489 non-null    int64         \n",
      " 7   year          489 non-null    int64         \n",
      " 8   month         489 non-null    int64         \n",
      " 9   day           489 non-null    int64         \n",
      "dtypes: datetime64[ns](1), float64(5), int64(4)\n",
      "memory usage: 38.3 KB\n"
     ]
    }
   ],
   "source": [
    "dataset.info()"
   ]
  },
  {
   "cell_type": "code",
   "execution_count": 89,
   "id": "04a9b3f7",
   "metadata": {},
   "outputs": [
    {
     "data": {
      "text/plain": [
       "array([2020, 2019, 2018], dtype=int64)"
      ]
     },
     "execution_count": 89,
     "metadata": {},
     "output_type": "execute_result"
    }
   ],
   "source": [
    "dataset['year'].unique()"
   ]
  },
  {
   "cell_type": "code",
   "execution_count": 92,
   "id": "7cb09568",
   "metadata": {},
   "outputs": [
    {
     "data": {
      "text/html": [
       "        <script type=\"text/javascript\">\n",
       "        window.PlotlyConfig = {MathJaxConfig: 'local'};\n",
       "        if (window.MathJax && window.MathJax.Hub && window.MathJax.Hub.Config) {window.MathJax.Hub.Config({SVG: {font: \"STIX-Web\"}});}\n",
       "        if (typeof require !== 'undefined') {\n",
       "        require.undef(\"plotly\");\n",
       "        requirejs.config({\n",
       "            paths: {\n",
       "                'plotly': ['https://cdn.plot.ly/plotly-2.18.0.min']\n",
       "            }\n",
       "        });\n",
       "        require(['plotly'], function(Plotly) {\n",
       "            window._Plotly = Plotly;\n",
       "        });\n",
       "        }\n",
       "        </script>\n",
       "        "
      ]
     },
     "metadata": {},
     "output_type": "display_data"
    }
   ],
   "source": [
    "import chart_studio.plotly as plt\n",
    "import plotly.graph_objs as go\n",
    "from plotly.offline import plot\n",
    "\n",
    "from plotly.offline import download_plotlyjs, init_notebook_mode,plot,iplot\n",
    "init_notebook_mode(connected=True)"
   ]
  },
  {
   "cell_type": "code",
   "execution_count": 95,
   "id": "93c0a986",
   "metadata": {},
   "outputs": [
    {
     "data": {
      "text/plain": [
       "array([ 7,  6,  5,  4,  3,  2,  1, 12, 11, 10,  9,  8], dtype=int64)"
      ]
     },
     "execution_count": 95,
     "metadata": {},
     "output_type": "execute_result"
    }
   ],
   "source": [
    "dataset['month'].unique()"
   ]
  },
  {
   "cell_type": "code",
   "execution_count": 96,
   "id": "502fe9cc",
   "metadata": {},
   "outputs": [
    {
     "data": {
      "text/html": [
       "<div>\n",
       "<style scoped>\n",
       "    .dataframe tbody tr th:only-of-type {\n",
       "        vertical-align: middle;\n",
       "    }\n",
       "\n",
       "    .dataframe tbody tr th {\n",
       "        vertical-align: top;\n",
       "    }\n",
       "\n",
       "    .dataframe thead th {\n",
       "        text-align: right;\n",
       "    }\n",
       "</style>\n",
       "<table border=\"1\" class=\"dataframe\">\n",
       "  <thead>\n",
       "    <tr style=\"text-align: right;\">\n",
       "      <th></th>\n",
       "      <th>Date</th>\n",
       "      <th>OPEN</th>\n",
       "      <th>HIGH</th>\n",
       "      <th>LOW</th>\n",
       "      <th>PREV.CLOSE</th>\n",
       "      <th>close</th>\n",
       "      <th>No of trades</th>\n",
       "      <th>year</th>\n",
       "      <th>month</th>\n",
       "      <th>day</th>\n",
       "    </tr>\n",
       "  </thead>\n",
       "  <tbody>\n",
       "    <tr>\n",
       "      <th>0</th>\n",
       "      <td>2020-07-29</td>\n",
       "      <td>1885.00</td>\n",
       "      <td>1918.50</td>\n",
       "      <td>1867.2</td>\n",
       "      <td>1897.35</td>\n",
       "      <td>1877.30</td>\n",
       "      <td>202540</td>\n",
       "      <td>2020</td>\n",
       "      <td>7</td>\n",
       "      <td>29</td>\n",
       "    </tr>\n",
       "    <tr>\n",
       "      <th>1</th>\n",
       "      <td>2020-07-28</td>\n",
       "      <td>1859.35</td>\n",
       "      <td>1907.00</td>\n",
       "      <td>1844.5</td>\n",
       "      <td>1850.75</td>\n",
       "      <td>1897.35</td>\n",
       "      <td>175005</td>\n",
       "      <td>2020</td>\n",
       "      <td>7</td>\n",
       "      <td>28</td>\n",
       "    </tr>\n",
       "    <tr>\n",
       "      <th>2</th>\n",
       "      <td>2020-07-27</td>\n",
       "      <td>1841.30</td>\n",
       "      <td>1861.95</td>\n",
       "      <td>1824.0</td>\n",
       "      <td>1841.30</td>\n",
       "      <td>1850.75</td>\n",
       "      <td>166745</td>\n",
       "      <td>2020</td>\n",
       "      <td>7</td>\n",
       "      <td>27</td>\n",
       "    </tr>\n",
       "    <tr>\n",
       "      <th>3</th>\n",
       "      <td>2020-07-24</td>\n",
       "      <td>1854.00</td>\n",
       "      <td>1857.80</td>\n",
       "      <td>1817.0</td>\n",
       "      <td>1875.80</td>\n",
       "      <td>1841.30</td>\n",
       "      <td>148129</td>\n",
       "      <td>2020</td>\n",
       "      <td>7</td>\n",
       "      <td>24</td>\n",
       "    </tr>\n",
       "    <tr>\n",
       "      <th>4</th>\n",
       "      <td>2020-07-23</td>\n",
       "      <td>1881.05</td>\n",
       "      <td>1910.00</td>\n",
       "      <td>1871.6</td>\n",
       "      <td>1881.05</td>\n",
       "      <td>1875.80</td>\n",
       "      <td>121783</td>\n",
       "      <td>2020</td>\n",
       "      <td>7</td>\n",
       "      <td>23</td>\n",
       "    </tr>\n",
       "  </tbody>\n",
       "</table>\n",
       "</div>"
      ],
      "text/plain": [
       "        Date     OPEN     HIGH     LOW  PREV.CLOSE    close  No of trades  \\\n",
       "0 2020-07-29  1885.00  1918.50  1867.2     1897.35  1877.30        202540   \n",
       "1 2020-07-28  1859.35  1907.00  1844.5     1850.75  1897.35        175005   \n",
       "2 2020-07-27  1841.30  1861.95  1824.0     1841.30  1850.75        166745   \n",
       "3 2020-07-24  1854.00  1857.80  1817.0     1875.80  1841.30        148129   \n",
       "4 2020-07-23  1881.05  1910.00  1871.6     1881.05  1875.80        121783   \n",
       "\n",
       "   year  month  day  \n",
       "0  2020      7   29  \n",
       "1  2020      7   28  \n",
       "2  2020      7   27  \n",
       "3  2020      7   24  \n",
       "4  2020      7   23  "
      ]
     },
     "execution_count": 96,
     "metadata": {},
     "output_type": "execute_result"
    }
   ],
   "source": [
    "dataset.head()"
   ]
  },
  {
   "cell_type": "markdown",
   "id": "7f43d79c",
   "metadata": {},
   "source": [
    "### visualising The Closing Stocks"
   ]
  },
  {
   "cell_type": "code",
   "execution_count": 126,
   "id": "86cf014c",
   "metadata": {},
   "outputs": [
    {
     "data": {
      "image/png": "[encoded data removed]",
      "text/plain": [
       "<Figure size 432x288 with 1 Axes>"
      ]
     },
     "metadata": {
      "needs_background": "light"
     },
     "output_type": "display_data"
    }
   ],
   "source": [
    "import matplotlib.pyplot as plt\n",
    "plt.plot(dataset['close'], label='Actual')\n",
    "plt.legend()\n",
    "plt.show()"
   ]
  },
  {
   "cell_type": "markdown",
   "id": "5e8cf445",
   "metadata": {},
   "source": [
    "### Check For Null values"
   ]
  },
  {
   "cell_type": "code",
   "execution_count": 99,
   "id": "b8d1e464",
   "metadata": {},
   "outputs": [
    {
     "data": {
      "text/plain": [
       "Date            0\n",
       "OPEN            0\n",
       "HIGH            0\n",
       "LOW             0\n",
       "PREV.CLOSE      0\n",
       "close           0\n",
       "No of trades    0\n",
       "year            0\n",
       "month           0\n",
       "day             0\n",
       "dtype: int64"
      ]
     },
     "execution_count": 99,
     "metadata": {},
     "output_type": "execute_result"
    }
   ],
   "source": [
    "dataset.isnull().sum()"
   ]
  },
  {
   "cell_type": "code",
   "execution_count": 100,
   "id": "84a7d4f1",
   "metadata": {},
   "outputs": [],
   "source": [
    "data = dataset.filter(['close']).values\n"
   ]
  },
  {
   "cell_type": "code",
   "execution_count": 101,
   "id": "357b2cfa",
   "metadata": {},
   "outputs": [
    {
     "data": {
      "text/plain": [
       "array([[1877.3 ],\n",
       "       [1897.35],\n",
       "       [1850.75],\n",
       "       [1841.3 ],\n",
       "       [1875.8 ],\n",
       "       [1881.05],\n",
       "       [1883.65],\n",
       "       [1806.05],\n",
       "       [1805.85],\n",
       "       [1787.8 ],\n",
       "       [1789.9 ],\n",
       "       [1791.6 ],\n",
       "       [1845.55],\n",
       "       [1886.  ],\n",
       "       [1941.85],\n",
       "       [1886.05],\n",
       "       [1886.75],\n",
       "       [1868.7 ],\n",
       "       [1885.2 ],\n",
       "       [1889.45],\n",
       "       [1835.15],\n",
       "       [1754.65],\n",
       "       [1741.15],\n",
       "       [1769.35],\n",
       "       [1777.8 ],\n",
       "       [1797.75],\n",
       "       [1838.1 ],\n",
       "       [1819.4 ],\n",
       "       [1835.1 ],\n",
       "       [1855.95],\n",
       "       [1794.65],\n",
       "       [1821.9 ],\n",
       "       [1751.65],\n",
       "       [1792.2 ],\n",
       "       [1787.45],\n",
       "       [1809.3 ],\n",
       "       [1772.1 ],\n",
       "       [1760.8 ],\n",
       "       [1766.6 ],\n",
       "       [1764.3 ],\n",
       "       [1835.65],\n",
       "       [1813.55],\n",
       "       [1737.7 ],\n",
       "       [1658.9 ],\n",
       "       [1623.7 ],\n",
       "       [1570.4 ],\n",
       "       [1502.15],\n",
       "       [1516.15],\n",
       "       [1597.3 ],\n",
       "       [1627.  ],\n",
       "       [1539.85],\n",
       "       [1512.05],\n",
       "       [1633.8 ],\n",
       "       [1632.4 ],\n",
       "       [1712.75],\n",
       "       [1674.1 ],\n",
       "       [1658.45],\n",
       "       [1689.7 ],\n",
       "       [1703.9 ],\n",
       "       [1732.15],\n",
       "       [1689.9 ],\n",
       "       [1724.35],\n",
       "       [1916.  ],\n",
       "       [1836.75],\n",
       "       [1715.8 ],\n",
       "       [1591.45],\n",
       "       [1580.3 ],\n",
       "       [1663.45],\n",
       "       [1664.15],\n",
       "       [1669.7 ],\n",
       "       [1727.7 ],\n",
       "       [1680.6 ],\n",
       "       [1625.75],\n",
       "       [1596.3 ],\n",
       "       [1655.2 ],\n",
       "       [1703.1 ],\n",
       "       [1558.8 ],\n",
       "       [1555.15],\n",
       "       [1499.55],\n",
       "       [1583.5 ],\n",
       "       [1633.1 ],\n",
       "       [1558.75],\n",
       "       [1754.  ],\n",
       "       [1733.25],\n",
       "       [1646.05],\n",
       "       [1505.1 ],\n",
       "       [1520.7 ],\n",
       "       [1753.95],\n",
       "       [1617.6 ],\n",
       "       [1622.55],\n",
       "       [1755.8 ],\n",
       "       [1841.75],\n",
       "       [2066.8 ],\n",
       "       [1875.7 ],\n",
       "       [2036.25],\n",
       "       [2027.9 ],\n",
       "       [2109.45],\n",
       "       [2195.05],\n",
       "       [2206.05],\n",
       "       [2191.4 ],\n",
       "       [2179.65],\n",
       "       [2175.75],\n",
       "       [2272.2 ],\n",
       "       [2281.45],\n",
       "       [2302.6 ],\n",
       "       [2292.3 ],\n",
       "       [2369.5 ],\n",
       "       [2377.25],\n",
       "       [2318.8 ],\n",
       "       [2350.25],\n",
       "       [2401.75],\n",
       "       [2403.65],\n",
       "       [2437.6 ],\n",
       "       [2435.15],\n",
       "       [2414.3 ],\n",
       "       [2405.65],\n",
       "       [2436.45],\n",
       "       [2391.65],\n",
       "       [2345.95],\n",
       "       [2259.75],\n",
       "       [2268.25],\n",
       "       [2414.  ],\n",
       "       [2415.  ],\n",
       "       [2404.25],\n",
       "       [2431.6 ],\n",
       "       [2395.8 ],\n",
       "       [2450.75],\n",
       "       [2428.4 ],\n",
       "       [2416.6 ],\n",
       "       [2465.45],\n",
       "       [2454.35],\n",
       "       [2453.95],\n",
       "       [2482.1 ],\n",
       "       [2488.6 ],\n",
       "       [2492.3 ],\n",
       "       [2462.55],\n",
       "       [2457.55],\n",
       "       [2457.4 ],\n",
       "       [2406.15],\n",
       "       [2415.05],\n",
       "       [2384.1 ],\n",
       "       [2454.45],\n",
       "       [2466.4 ],\n",
       "       [2433.95],\n",
       "       [2412.55],\n",
       "       [2438.25],\n",
       "       [2444.15],\n",
       "       [2414.1 ],\n",
       "       [2412.75],\n",
       "       [2422.65],\n",
       "       [2404.1 ],\n",
       "       [2411.9 ],\n",
       "       [2445.15],\n",
       "       [2430.1 ],\n",
       "       [2375.25],\n",
       "       [2354.5 ],\n",
       "       [2318.45],\n",
       "       [2321.65],\n",
       "       [2295.15],\n",
       "       [2311.4 ],\n",
       "       [2264.65],\n",
       "       [2327.55],\n",
       "       [2322.4 ],\n",
       "       [2319.7 ],\n",
       "       [2306.6 ],\n",
       "       [2297.25],\n",
       "       [2309.75],\n",
       "       [2336.3 ],\n",
       "       [2304.65],\n",
       "       [2294.55],\n",
       "       [2237.3 ],\n",
       "       [2210.35],\n",
       "       [2200.95],\n",
       "       [2212.1 ],\n",
       "       [2236.3 ],\n",
       "       [2224.05],\n",
       "       [2226.8 ],\n",
       "       [2207.45],\n",
       "       [2234.55],\n",
       "       [2233.2 ],\n",
       "       [2251.  ],\n",
       "       [2220.6 ],\n",
       "       [2181.3 ],\n",
       "       [2181.3 ],\n",
       "       [2128.6 ],\n",
       "       [2131.9 ],\n",
       "       [2107.45],\n",
       "       [2113.05],\n",
       "       [2105.35],\n",
       "       [2101.55],\n",
       "       [2144.95],\n",
       "       [2142.95],\n",
       "       [2114.9 ],\n",
       "       [2094.45],\n",
       "       [2089.75],\n",
       "       [2048.7 ],\n",
       "       [2013.3 ],\n",
       "       [2014.75],\n",
       "       [2010.15],\n",
       "       [1987.95],\n",
       "       [2002.  ],\n",
       "       [1969.3 ],\n",
       "       [1978.3 ],\n",
       "       [1974.55],\n",
       "       [1995.65],\n",
       "       [1977.05],\n",
       "       [2035.9 ],\n",
       "       [2063.2 ],\n",
       "       [2069.95],\n",
       "       [2130.  ],\n",
       "       [2162.  ],\n",
       "       [2049.3 ],\n",
       "       [1974.6 ],\n",
       "       [1988.3 ],\n",
       "       [1996.25],\n",
       "       [2046.75],\n",
       "       [2083.85],\n",
       "       [2082.75],\n",
       "       [2071.85],\n",
       "       [2064.25],\n",
       "       [2041.45],\n",
       "       [2044.15],\n",
       "       [2100.1 ],\n",
       "       [2089.9 ],\n",
       "       [2166.45],\n",
       "       [2128.45],\n",
       "       [2187.15],\n",
       "       [2174.3 ],\n",
       "       [2148.35],\n",
       "       [2043.75],\n",
       "       [2014.1 ],\n",
       "       [2066.9 ],\n",
       "       [2090.1 ],\n",
       "       [2114.05],\n",
       "       [2100.  ],\n",
       "       [2117.7 ],\n",
       "       [2100.1 ],\n",
       "       [2211.65],\n",
       "       [2182.3 ],\n",
       "       [2175.2 ],\n",
       "       [2189.9 ],\n",
       "       [2152.35],\n",
       "       [2124.8 ],\n",
       "       [2086.8 ],\n",
       "       [2121.8 ],\n",
       "       [2127.25],\n",
       "       [2149.  ],\n",
       "       [2165.75],\n",
       "       [2195.35],\n",
       "       [2184.25],\n",
       "       [2138.5 ],\n",
       "       [2186.9 ],\n",
       "       [2303.55],\n",
       "       [2345.15],\n",
       "       [2286.7 ],\n",
       "       [2277.55],\n",
       "       [2265.35],\n",
       "       [2257.8 ],\n",
       "       [2261.9 ],\n",
       "       [2227.75],\n",
       "       [2232.8 ],\n",
       "       [2259.95],\n",
       "       [2278.9 ],\n",
       "       [2280.25],\n",
       "       [2277.2 ],\n",
       "       [2281.25],\n",
       "       [2245.9 ],\n",
       "       [2192.1 ],\n",
       "       [2195.45],\n",
       "       [2168.1 ],\n",
       "       [2172.8 ],\n",
       "       [2148.9 ],\n",
       "       [2140.8 ],\n",
       "       [2199.25],\n",
       "       [2175.4 ],\n",
       "       [2153.  ],\n",
       "       [2173.  ],\n",
       "       [2185.85],\n",
       "       [2197.5 ],\n",
       "       [2181.95],\n",
       "       [2189.85],\n",
       "       [2194.05],\n",
       "       [2210.85],\n",
       "       [2183.45],\n",
       "       [2223.95],\n",
       "       [2230.45],\n",
       "       [2182.65],\n",
       "       [2184.4 ],\n",
       "       [2147.45],\n",
       "       [2147.85],\n",
       "       [2165.3 ],\n",
       "       [2123.4 ],\n",
       "       [2114.4 ],\n",
       "       [2138.8 ],\n",
       "       [2114.5 ],\n",
       "       [2122.5 ],\n",
       "       [1993.65],\n",
       "       [1942.1 ],\n",
       "       [1944.95],\n",
       "       [1965.2 ],\n",
       "       [1952.9 ],\n",
       "       [1931.7 ],\n",
       "       [1914.6 ],\n",
       "       [1930.75],\n",
       "       [1966.3 ],\n",
       "       [1965.45],\n",
       "       [2006.4 ],\n",
       "       [2017.4 ],\n",
       "       [1995.05],\n",
       "       [1977.4 ],\n",
       "       [1955.15],\n",
       "       [1980.4 ],\n",
       "       [1934.7 ],\n",
       "       [1953.9 ],\n",
       "       [2003.75],\n",
       "       [2026.7 ],\n",
       "       [2014.25],\n",
       "       [2024.95],\n",
       "       [2022.8 ],\n",
       "       [2029.25],\n",
       "       [2069.15],\n",
       "       [2054.9 ],\n",
       "       [2059.2 ],\n",
       "       [2042.05],\n",
       "       [2013.1 ],\n",
       "       [1995.95],\n",
       "       [1959.65],\n",
       "       [1968.25],\n",
       "       [1944.45],\n",
       "       [1919.9 ],\n",
       "       [1946.3 ],\n",
       "       [1945.65],\n",
       "       [1981.55],\n",
       "       [1987.55],\n",
       "       [1967.85],\n",
       "       [1962.4 ],\n",
       "       [1974.65],\n",
       "       [1956.95],\n",
       "       [1950.65],\n",
       "       [1930.  ],\n",
       "       [1897.55],\n",
       "       [1884.05],\n",
       "       [1880.2 ],\n",
       "       [1885.2 ],\n",
       "       [1860.  ],\n",
       "       [1859.45],\n",
       "       [1841.2 ],\n",
       "       [1841.  ],\n",
       "       [1853.65],\n",
       "       [1894.5 ],\n",
       "       [1887.4 ],\n",
       "       [1891.45],\n",
       "       [1870.5 ],\n",
       "       [1853.45],\n",
       "       [1874.85],\n",
       "       [1874.9 ],\n",
       "       [1900.7 ],\n",
       "       [1930.5 ],\n",
       "       [1905.05],\n",
       "       [1948.2 ],\n",
       "       [1944.65],\n",
       "       [1969.65],\n",
       "       [1987.95],\n",
       "       [1981.4 ],\n",
       "       [1978.5 ],\n",
       "       [1961.25],\n",
       "       [1922.35],\n",
       "       [1885.8 ],\n",
       "       [1922.3 ],\n",
       "       [1946.9 ],\n",
       "       [1977.8 ],\n",
       "       [1971.1 ],\n",
       "       [1958.25],\n",
       "       [1979.4 ],\n",
       "       [2004.45],\n",
       "       [2006.85],\n",
       "       [2004.55],\n",
       "       [1975.  ],\n",
       "       [1992.15],\n",
       "       [1969.2 ],\n",
       "       [1991.4 ],\n",
       "       [1980.1 ],\n",
       "       [1994.95],\n",
       "       [1958.95],\n",
       "       [1972.9 ],\n",
       "       [1972.6 ],\n",
       "       [1936.85],\n",
       "       [1980.65],\n",
       "       [2009.  ],\n",
       "       [1968.35],\n",
       "       [1979.95],\n",
       "       [1948.85],\n",
       "       [1933.35],\n",
       "       [1902.15],\n",
       "       [1948.6 ],\n",
       "       [1974.7 ],\n",
       "       [1981.7 ],\n",
       "       [1952.  ],\n",
       "       [1960.35],\n",
       "       [1904.1 ],\n",
       "       [1942.05],\n",
       "       [1940.2 ],\n",
       "       [1905.25],\n",
       "       [1906.5 ],\n",
       "       [1951.35],\n",
       "       [1945.8 ],\n",
       "       [1973.3 ],\n",
       "       [1939.45],\n",
       "       [1980.75],\n",
       "       [1989.  ],\n",
       "       [1956.3 ],\n",
       "       [1928.  ],\n",
       "       [1901.7 ],\n",
       "       [1884.65],\n",
       "       [1873.7 ],\n",
       "       [1868.15],\n",
       "       [1876.8 ],\n",
       "       [1899.35],\n",
       "       [1889.  ],\n",
       "       [1853.6 ],\n",
       "       [1839.15],\n",
       "       [1824.7 ],\n",
       "       [1795.9 ],\n",
       "       [1816.1 ],\n",
       "       [1815.85],\n",
       "       [1805.9 ],\n",
       "       [1792.9 ],\n",
       "       [1824.4 ],\n",
       "       [1762.  ],\n",
       "       [1769.25],\n",
       "       [1671.9 ],\n",
       "       [1698.4 ],\n",
       "       [1702.1 ],\n",
       "       [1694.45],\n",
       "       [1741.45],\n",
       "       [1686.75],\n",
       "       [1658.3 ],\n",
       "       [1660.25],\n",
       "       [1737.8 ],\n",
       "       [1756.25],\n",
       "       [1732.9 ],\n",
       "       [1730.3 ],\n",
       "       [1684.55],\n",
       "       [1736.95],\n",
       "       [1712.75],\n",
       "       [1667.7 ],\n",
       "       [1708.65],\n",
       "       [1778.45],\n",
       "       [1797.55],\n",
       "       [1806.35],\n",
       "       [1754.5 ],\n",
       "       [1729.  ],\n",
       "       [1767.45],\n",
       "       [1773.35],\n",
       "       [1718.7 ],\n",
       "       [1839.4 ],\n",
       "       [1830.65],\n",
       "       [1855.7 ],\n",
       "       [1878.85],\n",
       "       [1925.45],\n",
       "       [1877.8 ],\n",
       "       [1868.05],\n",
       "       [1883.55],\n",
       "       [1920.  ],\n",
       "       [1956.15],\n",
       "       [1937.4 ],\n",
       "       [1954.8 ],\n",
       "       [1944.8 ],\n",
       "       [1935.95],\n",
       "       [1934.15],\n",
       "       [1956.25],\n",
       "       [1955.15],\n",
       "       [1924.85],\n",
       "       [1919.05],\n",
       "       [1906.3 ],\n",
       "       [1913.35],\n",
       "       [1920.05],\n",
       "       [1885.65],\n",
       "       [1891.2 ],\n",
       "       [1941.5 ],\n",
       "       [1947.  ],\n",
       "       [1974.3 ],\n",
       "       [1969.95],\n",
       "       [1984.6 ],\n",
       "       [1978.6 ],\n",
       "       [1979.3 ],\n",
       "       [1977.5 ],\n",
       "       [1931.95],\n",
       "       [1970.15]])"
      ]
     },
     "execution_count": 101,
     "metadata": {},
     "output_type": "execute_result"
    }
   ],
   "source": [
    "data"
   ]
  },
  {
   "cell_type": "markdown",
   "id": "3ff7b00f",
   "metadata": {},
   "source": [
    "### Scaling The Data"
   ]
  },
  {
   "cell_type": "code",
   "execution_count": 102,
   "id": "3f51c58d",
   "metadata": {},
   "outputs": [],
   "source": [
    "from sklearn.preprocessing import MinMaxScaler\n",
    "mm=MinMaxScaler()\n",
    "data=mm.fit_transform(data)"
   ]
  },
  {
   "cell_type": "markdown",
   "id": "3ac2cd41",
   "metadata": {},
   "source": [
    "### Splitting The Data as Training Dataset And Testing Dataset"
   ]
  },
  {
   "cell_type": "code",
   "execution_count": 103,
   "id": "365179f5",
   "metadata": {},
   "outputs": [],
   "source": [
    "train_size = int(len(data) * 0.7)\n",
    "train_data = data[:train_size, :]\n",
    "test_data = data[train_size:, :]"
   ]
  },
  {
   "cell_type": "code",
   "execution_count": 104,
   "id": "3c04c295",
   "metadata": {},
   "outputs": [
    {
     "data": {
      "text/plain": [
       "147"
      ]
     },
     "execution_count": 104,
     "metadata": {},
     "output_type": "execute_result"
    }
   ],
   "source": [
    "len(test_data)"
   ]
  },
  {
   "cell_type": "markdown",
   "id": "e430e0de",
   "metadata": {},
   "source": [
    "### Converting The data into the shape in which that data is going to implement on madel"
   ]
  },
  {
   "cell_type": "code",
   "execution_count": 105,
   "id": "ba859c3e",
   "metadata": {},
   "outputs": [],
   "source": [
    "def create_sequences(data, sequence_length):\n",
    "    x = []\n",
    "    y = []\n",
    "    for i in range(sequence_length, len(data)):\n",
    "        x.append(data[i-sequence_length:i, 0])\n",
    "        y.append(data[i, 0])\n",
    "    return np.array(x), np.array(y)\n"
   ]
  },
  {
   "cell_type": "code",
   "execution_count": 106,
   "id": "131383a8",
   "metadata": {},
   "outputs": [],
   "source": [
    "sequence_length = 60\n",
    "\n",
    "x_train, y_train = create_sequences(train_data, sequence_length)\n",
    "x_test, y_test = create_sequences(test_data, sequence_length)"
   ]
  },
  {
   "cell_type": "code",
   "execution_count": 107,
   "id": "e5263581",
   "metadata": {},
   "outputs": [
    {
     "data": {
      "text/plain": [
       "array([[0.38050869, 0.40070511, 0.35376479, ..., 0.19153866, 0.20584236,\n",
       "        0.23429867],\n",
       "       [0.40070511, 0.35376479, 0.34424578, ..., 0.20584236, 0.23429867,\n",
       "        0.19174012],\n",
       "       [0.35376479, 0.34424578, 0.37899773, ..., 0.23429867, 0.19174012,\n",
       "        0.2264417 ],\n",
       "       ...,\n",
       "       [0.68738353, 0.69534122, 0.6995719 , ..., 0.47856963, 0.46074037,\n",
       "        0.45439436],\n",
       "       [0.69534122, 0.6995719 , 0.71649459, ..., 0.46074037, 0.45439436,\n",
       "        0.43359355],\n",
       "       [0.6995719 , 0.71649459, 0.68889449, ..., 0.45439436, 0.43359355,\n",
       "        0.40090657]])"
      ]
     },
     "execution_count": 107,
     "metadata": {},
     "output_type": "execute_result"
    }
   ],
   "source": [
    "x_train"
   ]
  },
  {
   "cell_type": "code",
   "execution_count": 108,
   "id": "45cb7ae3",
   "metadata": {},
   "outputs": [
    {
     "data": {
      "text/plain": [
       "87"
      ]
     },
     "execution_count": 108,
     "metadata": {},
     "output_type": "execute_result"
    }
   ],
   "source": [
    "len(x_test)"
   ]
  },
  {
   "cell_type": "code",
   "execution_count": 109,
   "id": "017c3dad",
   "metadata": {},
   "outputs": [
    {
     "data": {
      "text/plain": [
       "282"
      ]
     },
     "execution_count": 109,
     "metadata": {},
     "output_type": "execute_result"
    }
   ],
   "source": [
    "len(x_train)"
   ]
  },
  {
   "cell_type": "code",
   "execution_count": 110,
   "id": "e90d2eb7",
   "metadata": {},
   "outputs": [
    {
     "data": {
      "text/plain": [
       "(array([0.19174012, 0.2264417 , 0.41949131, 0.33966255, 0.21782926,\n",
       "        0.09257114, 0.08133971, 0.16509695, 0.16580206, 0.1713926 ,\n",
       "        0.22981617, 0.1823722 , 0.12712163, 0.09745656, 0.1567867 ,\n",
       "        0.20503651, 0.0596827 , 0.05600604, 0.        , 0.08456308,\n",
       "        0.13452531, 0.05963233, 0.25630823, 0.2354067 , 0.14756988,\n",
       "        0.00559053, 0.02130446, 0.25625787, 0.11891211, 0.12389826,\n",
       "        0.25812138, 0.34469907, 0.5713926 , 0.378897  , 0.54061949,\n",
       "        0.53220851, 0.61435407, 0.7005792 , 0.71165953, 0.69690254,\n",
       "        0.68506673, 0.68113825, 0.77829262, 0.78761017, 0.80891463,\n",
       "        0.79853941, 0.8763032 , 0.8841098 , 0.82523294, 0.85691262,\n",
       "        0.90878872, 0.91070259, 0.94490053, 0.94243264, 0.92143037,\n",
       "        0.9127172 , 0.94374213, 0.89861496, 0.85258121, 0.7657517 ,\n",
       "        0.77431377, 0.92112818, 0.92213548, 0.91130698, 0.93885671,\n",
       "        0.90279527, 0.95814656, 0.93563334, 0.92374717, 0.97295392,\n",
       "        0.96177285, 0.96136993, 0.98972551, 0.99627298, 1.        ,\n",
       "        0.97003274, 0.96499622, 0.96484513, 0.91322085, 0.92218585,\n",
       "        0.89100982, 0.96187358, 0.97391085, 0.94122387, 0.91966759,\n",
       "        0.94555528, 0.95149836, 0.92122891, 0.91986905, 0.92984135,\n",
       "        0.91115588, 0.91901284, 0.95250567, 0.93734576, 0.88209519,\n",
       "        0.86119365, 0.82488038, 0.82810375, 0.80141022, 0.8177789 ,\n",
       "        0.77068748, 0.83404684, 0.82885923, 0.82613951, 0.81294384,\n",
       "        0.80352556, 0.81611685, 0.84286074, 0.8109796 , 0.80080584,\n",
       "        0.74313775, 0.71599093, 0.70652229, 0.71775371, 0.74213045,\n",
       "        0.72979098, 0.73256107, 0.71306976, 0.74036767, 0.73900781,\n",
       "        0.7569378 , 0.72631579, 0.68672878, 0.68672878, 0.63364392,\n",
       "        0.63696802, 0.61233946, 0.61798036, 0.61022412, 0.60639637,\n",
       "        0.65011332, 0.64809872, 0.61984387, 0.59924452, 0.5945102 ,\n",
       "        0.55316041, 0.51750189, 0.51896248, 0.51432888, 0.49196676,\n",
       "        0.50611937, 0.47318056, 0.48224629, 0.4784689 , 0.49972299,\n",
       "        0.48098716, 0.54026694, 0.56776631, 0.5745656 , 0.63505414,\n",
       "        0.66728784, 0.55376479, 0.47851926, 0.49231932, 0.50032737,\n",
       "        0.55119617, 0.58856711, 0.58745908, 0.57647948, 0.56882397,\n",
       "        0.54585747, 0.54857718, 0.60493578, 0.59466129, 0.67177033,\n",
       "        0.63349282, 0.69262151, 0.67967766, 0.65353815, 0.54817426,\n",
       "        0.51830773, 0.57149333, 0.59486275, 0.61898766, 0.60483505,\n",
       "        0.62266432, 0.60493578, 0.71730043, 0.68773609, 0.68058424,\n",
       "        0.69539159, 0.65756736, 0.62981617, 0.59153866, 0.62679426,\n",
       "        0.63228406, 0.6541929 , 0.67106522, 0.70088139, 0.68970033,\n",
       "        0.64361622, 0.69236968, 0.80987157, 0.85177537, 0.79289851,\n",
       "        0.78368169, 0.7713926 , 0.76378746, 0.7679174 , 0.73351801,\n",
       "        0.73860489, 0.76595316, 0.78504155, 0.78640141, 0.78332914,\n",
       "        0.78740871, 0.75180055, 0.69760766, 0.70098212, 0.67343238,\n",
       "        0.67816671, 0.65409217, 0.64593301, 0.70480987, 0.6807857 ,\n",
       "        0.65822211, 0.67836817, 0.69131201, 0.70304709, 0.68738353,\n",
       "        0.69534122, 0.6995719 , 0.71649459, 0.68889449, 0.72969025,\n",
       "        0.73623772, 0.68808864, 0.68985142, 0.65263158, 0.6530345 ,\n",
       "        0.67061194, 0.62840594, 0.61934022, 0.64391841, 0.61944095,\n",
       "        0.62749937, 0.49770839, 0.44578192, 0.44865273, 0.46905062,\n",
       "        0.45666079, 0.43530597, 0.41808109, 0.43434903, 0.47015865,\n",
       "        0.46930244, 0.5105515 , 0.52163183, 0.49911861, 0.48133971,\n",
       "        0.45892722, 0.48436162, 0.43832788, 0.45766809, 0.50788215,\n",
       "        0.53099975, 0.51845883, 0.52923697, 0.52707127, 0.53356837,\n",
       "        0.57375976, 0.55940569, 0.56373709, 0.54646185, 0.51730043,\n",
       "        0.50002518, 0.46346009, 0.47212289, 0.44814908, 0.42341979,\n",
       "        0.45001259, 0.44935784, 0.48552002, 0.49156384, 0.47171997,\n",
       "        0.46623017, 0.47856963, 0.46074037, 0.45439436, 0.43359355,\n",
       "        0.40090657, 0.38730798]),\n",
       " 282)"
      ]
     },
     "execution_count": 110,
     "metadata": {},
     "output_type": "execute_result"
    }
   ],
   "source": [
    "y_train,len(y_train)"
   ]
  },
  {
   "cell_type": "markdown",
   "id": "5e06caf1",
   "metadata": {},
   "source": [
    "### Importing The Libraries For The LSTM"
   ]
  },
  {
   "cell_type": "code",
   "execution_count": 111,
   "id": "6dc97229",
   "metadata": {},
   "outputs": [],
   "source": [
    "from tensorflow.keras.models import Sequential\n",
    "from tensorflow.keras.layers import Dense\n",
    "from tensorflow.keras.layers import LSTM"
   ]
  },
  {
   "cell_type": "markdown",
   "id": "0aecb999",
   "metadata": {},
   "source": [
    "### Preparing The LSTM Model"
   ]
  },
  {
   "cell_type": "code",
   "execution_count": 112,
   "id": "53042771",
   "metadata": {},
   "outputs": [],
   "source": [
    "model = Sequential()\n",
    "model.add(LSTM(50,return_sequences=True,input_shape=(x_train.shape[1],1)))\n",
    "model.add(LSTM(50,return_sequences=True))\n",
    "model.add(LSTM(50))\n",
    "model.add(Dense(1))\n",
    "model.compile(loss=\"mean_squared_error\",optimizer=\"adam\")"
   ]
  },
  {
   "cell_type": "code",
   "execution_count": 113,
   "id": "39fccfd0",
   "metadata": {},
   "outputs": [
    {
     "name": "stdout",
     "output_type": "stream",
     "text": [
      "Model: \"sequential_1\"\n",
      "_________________________________________________________________\n",
      " Layer (type)                Output Shape              Param #   \n",
      "=================================================================\n",
      " lstm_3 (LSTM)               (None, 60, 50)            10400     \n",
      "                                                                 \n",
      " lstm_4 (LSTM)               (None, 60, 50)            20200     \n",
      "                                                                 \n",
      " lstm_5 (LSTM)               (None, 50)                20200     \n",
      "                                                                 \n",
      " dense_1 (Dense)             (None, 1)                 51        \n",
      "                                                                 \n",
      "=================================================================\n",
      "Total params: 50,851\n",
      "Trainable params: 50,851\n",
      "Non-trainable params: 0\n",
      "_________________________________________________________________\n"
     ]
    }
   ],
   "source": [
    "model.summary()"
   ]
  },
  {
   "cell_type": "markdown",
   "id": "143adb92",
   "metadata": {},
   "source": [
    "### Training The Data On LSTM Model"
   ]
  },
  {
   "cell_type": "code",
   "execution_count": 114,
   "id": "3474ea9d",
   "metadata": {},
   "outputs": [
    {
     "name": "stdout",
     "output_type": "stream",
     "text": [
      "Epoch 1/5\n",
      "29/29 [==============================] - 43s 429ms/step - loss: 0.0803\n",
      "Epoch 2/5\n",
      "29/29 [==============================] - 13s 445ms/step - loss: 0.0191\n",
      "Epoch 3/5\n",
      "29/29 [==============================] - 13s 437ms/step - loss: 0.0148\n",
      "Epoch 4/5\n",
      "29/29 [==============================] - 13s 450ms/step - loss: 0.0111\n",
      "Epoch 5/5\n",
      "29/29 [==============================] - 13s 431ms/step - loss: 0.0095\n"
     ]
    },
    {
     "data": {
      "text/plain": [
       "<keras.callbacks.History at 0x246ea9a8370>"
      ]
     },
     "execution_count": 114,
     "metadata": {},
     "output_type": "execute_result"
    }
   ],
   "source": [
    "model.fit(x_train,y_train,epochs=5,batch_size=10)"
   ]
  },
  {
   "cell_type": "markdown",
   "id": "cd148968",
   "metadata": {},
   "source": [
    "### Predicting The Outputs For Our Test Data"
   ]
  },
  {
   "cell_type": "code",
   "execution_count": 115,
   "id": "70f8544d",
   "metadata": {},
   "outputs": [
    {
     "name": "stdout",
     "output_type": "stream",
     "text": [
      "3/3 [==============================] - 7s 286ms/step\n"
     ]
    }
   ],
   "source": [
    "predictions = model.predict(x_test)"
   ]
  },
  {
   "cell_type": "code",
   "execution_count": 116,
   "id": "cb0e486e",
   "metadata": {},
   "outputs": [],
   "source": [
    "predictions = mm.inverse_transform(predictions)"
   ]
  },
  {
   "cell_type": "markdown",
   "id": "a244dd7c",
   "metadata": {},
   "source": [
    "### Predicted Outputs"
   ]
  },
  {
   "cell_type": "code",
   "execution_count": 117,
   "id": "7997d607",
   "metadata": {},
   "outputs": [
    {
     "data": {
      "text/plain": [
       "array([[1970.53  ],\n",
       "       [1967.8167],\n",
       "       [1964.5831],\n",
       "       [1961.6245],\n",
       "       [1959.2251],\n",
       "       [1957.9697],\n",
       "       [1957.4756],\n",
       "       [1958.1825],\n",
       "       [1960.2568],\n",
       "       [1963.0659],\n",
       "       [1965.7336],\n",
       "       [1967.3887],\n",
       "       [1967.4241],\n",
       "       [1965.5549],\n",
       "       [1961.8148],\n",
       "       [1956.645 ],\n",
       "       [1950.8772],\n",
       "       [1944.9207],\n",
       "       [1938.5542],\n",
       "       [1931.6371],\n",
       "       [1924.0588],\n",
       "       [1915.5316],\n",
       "       [1906.5077],\n",
       "       [1897.401 ],\n",
       "       [1888.4382],\n",
       "       [1879.6846],\n",
       "       [1871.7933],\n",
       "       [1864.1519],\n",
       "       [1856.7224],\n",
       "       [1848.1119],\n",
       "       [1838.3802],\n",
       "       [1827.886 ],\n",
       "       [1816.9691],\n",
       "       [1806.7413],\n",
       "       [1797.044 ],\n",
       "       [1787.5326],\n",
       "       [1778.223 ],\n",
       "       [1770.3708],\n",
       "       [1764.8231],\n",
       "       [1761.5162],\n",
       "       [1760.2144],\n",
       "       [1759.9397],\n",
       "       [1760.8741],\n",
       "       [1762.5907],\n",
       "       [1764.1295],\n",
       "       [1765.623 ],\n",
       "       [1768.1257],\n",
       "       [1772.305 ],\n",
       "       [1778.404 ],\n",
       "       [1785.4752],\n",
       "       [1792.4642],\n",
       "       [1799.3109],\n",
       "       [1805.9629],\n",
       "       [1811.4838],\n",
       "       [1817.2943],\n",
       "       [1823.8055],\n",
       "       [1831.4541],\n",
       "       [1840.5624],\n",
       "       [1851.712 ],\n",
       "       [1864.0157],\n",
       "       [1876.5679],\n",
       "       [1888.9078],\n",
       "       [1901.1749],\n",
       "       [1913.793 ],\n",
       "       [1926.4011],\n",
       "       [1938.8972],\n",
       "       [1950.8452],\n",
       "       [1961.7274],\n",
       "       [1971.1816],\n",
       "       [1979.3738],\n",
       "       [1986.3315],\n",
       "       [1991.5763],\n",
       "       [1994.889 ],\n",
       "       [1996.0947],\n",
       "       [1995.4336],\n",
       "       [1993.3307],\n",
       "       [1989.6127],\n",
       "       [1984.5547],\n",
       "       [1979.3219],\n",
       "       [1974.6271],\n",
       "       [1971.2781],\n",
       "       [1969.478 ],\n",
       "       [1969.4149],\n",
       "       [1970.8643],\n",
       "       [1973.5223],\n",
       "       [1977.0087],\n",
       "       [1980.2161]], dtype=float32)"
      ]
     },
     "execution_count": 117,
     "metadata": {},
     "output_type": "execute_result"
    }
   ],
   "source": [
    "predictions"
   ]
  },
  {
   "cell_type": "code",
   "execution_count": 121,
   "id": "02591ac5",
   "metadata": {},
   "outputs": [],
   "source": [
    "y_test=mm.inverse_transform(y_test.reshape(-1,1))"
   ]
  },
  {
   "cell_type": "code",
   "execution_count": 122,
   "id": "22e32767",
   "metadata": {},
   "outputs": [
    {
     "data": {
      "text/plain": [
       "array([[1905.25],\n",
       "       [1906.5 ],\n",
       "       [1951.35],\n",
       "       [1945.8 ],\n",
       "       [1973.3 ],\n",
       "       [1939.45],\n",
       "       [1980.75],\n",
       "       [1989.  ],\n",
       "       [1956.3 ],\n",
       "       [1928.  ],\n",
       "       [1901.7 ],\n",
       "       [1884.65],\n",
       "       [1873.7 ],\n",
       "       [1868.15],\n",
       "       [1876.8 ],\n",
       "       [1899.35],\n",
       "       [1889.  ],\n",
       "       [1853.6 ],\n",
       "       [1839.15],\n",
       "       [1824.7 ],\n",
       "       [1795.9 ],\n",
       "       [1816.1 ],\n",
       "       [1815.85],\n",
       "       [1805.9 ],\n",
       "       [1792.9 ],\n",
       "       [1824.4 ],\n",
       "       [1762.  ],\n",
       "       [1769.25],\n",
       "       [1671.9 ],\n",
       "       [1698.4 ],\n",
       "       [1702.1 ],\n",
       "       [1694.45],\n",
       "       [1741.45],\n",
       "       [1686.75],\n",
       "       [1658.3 ],\n",
       "       [1660.25],\n",
       "       [1737.8 ],\n",
       "       [1756.25],\n",
       "       [1732.9 ],\n",
       "       [1730.3 ],\n",
       "       [1684.55],\n",
       "       [1736.95],\n",
       "       [1712.75],\n",
       "       [1667.7 ],\n",
       "       [1708.65],\n",
       "       [1778.45],\n",
       "       [1797.55],\n",
       "       [1806.35],\n",
       "       [1754.5 ],\n",
       "       [1729.  ],\n",
       "       [1767.45],\n",
       "       [1773.35],\n",
       "       [1718.7 ],\n",
       "       [1839.4 ],\n",
       "       [1830.65],\n",
       "       [1855.7 ],\n",
       "       [1878.85],\n",
       "       [1925.45],\n",
       "       [1877.8 ],\n",
       "       [1868.05],\n",
       "       [1883.55],\n",
       "       [1920.  ],\n",
       "       [1956.15],\n",
       "       [1937.4 ],\n",
       "       [1954.8 ],\n",
       "       [1944.8 ],\n",
       "       [1935.95],\n",
       "       [1934.15],\n",
       "       [1956.25],\n",
       "       [1955.15],\n",
       "       [1924.85],\n",
       "       [1919.05],\n",
       "       [1906.3 ],\n",
       "       [1913.35],\n",
       "       [1920.05],\n",
       "       [1885.65],\n",
       "       [1891.2 ],\n",
       "       [1941.5 ],\n",
       "       [1947.  ],\n",
       "       [1974.3 ],\n",
       "       [1969.95],\n",
       "       [1984.6 ],\n",
       "       [1978.6 ],\n",
       "       [1979.3 ],\n",
       "       [1977.5 ],\n",
       "       [1931.95],\n",
       "       [1970.15]])"
      ]
     },
     "execution_count": 122,
     "metadata": {},
     "output_type": "execute_result"
    }
   ],
   "source": [
    "y_test"
   ]
  },
  {
   "cell_type": "markdown",
   "id": "7a44df88",
   "metadata": {},
   "source": [
    "### Finding The Error"
   ]
  },
  {
   "cell_type": "code",
   "execution_count": 123,
   "id": "29bee3fc",
   "metadata": {},
   "outputs": [
    {
     "name": "stdout",
     "output_type": "stream",
     "text": [
      "RMSE: 69.84489732055935\n"
     ]
    }
   ],
   "source": [
    "rmse = np.sqrt(np.mean((predictions - y_test)**2))\n",
    "print('RMSE:', rmse)"
   ]
  },
  {
   "cell_type": "markdown",
   "id": "830d2d6f",
   "metadata": {},
   "source": [
    "### The Error looks Like minimum, so Our model performance is good"
   ]
  },
  {
   "cell_type": "code",
   "execution_count": 124,
   "id": "ec86b320",
   "metadata": {},
   "outputs": [
    {
     "data": {
      "text/plain": [
       "69.84489732055935"
      ]
     },
     "execution_count": 124,
     "metadata": {},
     "output_type": "execute_result"
    }
   ],
   "source": [
    "from sklearn.metrics import mean_squared_error\n",
    "import math\n",
    "math.sqrt(mean_squared_error(y_test,predictions))"
   ]
  },
  {
   "cell_type": "markdown",
   "id": "cde7e342",
   "metadata": {},
   "source": [
    "### Visualising The Both Testing Outputs and The PreDicted Outputs"
   ]
  },
  {
   "cell_type": "code",
   "execution_count": 125,
   "id": "7631a738",
   "metadata": {},
   "outputs": [
    {
     "data": {
      "image/png": "[encoded data removed]",
      "text/plain": [
       "<Figure size 432x288 with 1 Axes>"
      ]
     },
     "metadata": {
      "needs_background": "light"
     },
     "output_type": "display_data"
    }
   ],
   "source": [
    "import matplotlib.pyplot as plt\n",
    "plt.plot(y_test, label='Actual')\n",
    "plt.plot(predictions, label='Predicted')\n",
    "plt.legend()\n",
    "plt.show()"
   ]
  },
  {
   "cell_type": "markdown",
   "id": "b0491759",
   "metadata": {},
   "source": [
    "### Observations From Above Graph :\n",
    "### The both the lines looks like same, so the model performance is nice"
   ]
  },
  {
   "cell_type": "code",
   "execution_count": null,
   "id": "3809fbfe",
   "metadata": {},
   "outputs": [],
   "source": []
  }
 ],
 "metadata": {
  "kernelspec": {
   "display_name": "Python 3 (ipykernel)",
   "language": "python",
   "name": "python3"
  },
  "language_info": {
   "codemirror_mode": {
    "name": "ipython",
    "version": 3
   },
   "file_extension": ".py",
   "mimetype": "text/x-python",
   "name": "python",
   "nbconvert_exporter": "python",
   "pygments_lexer": "ipython3",
   "version": "3.9.7"
  }
 },
 "nbformat": 4,
 "nbformat_minor": 5
}
